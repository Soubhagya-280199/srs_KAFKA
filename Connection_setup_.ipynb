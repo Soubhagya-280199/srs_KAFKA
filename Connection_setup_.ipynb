{
 "cells": [
  {
   "cell_type": "markdown",
   "metadata": {},
   "source": [
    "Kafka Connection Setup in Windows:"
   ]
  },
  {
   "cell_type": "markdown",
   "metadata": {},
   "source": [
    "download : https://kafka.apache.org/downloads"
   ]
  },
  {
   "cell_type": "markdown",
   "metadata": {},
   "source": [
    "https://youtu.be/w6A-uDEb7JY?si=tO4MSgwarVKwq3hu\n",
    "follow this youtube channel, I haven't make it becz it is asking to install the java."
   ]
  },
  {
   "cell_type": "markdown",
   "metadata": {},
   "source": [
    "https://youtu.be/CUwi_J5ddBk?si=A0TOqCnbPrCeg-wB Follow this youtube channel for Kafka-Python configuration with pip install kafka-python"
   ]
  },
  {
   "cell_type": "markdown",
   "metadata": {},
   "source": []
  }
 ],
 "metadata": {
  "language_info": {
   "name": "python"
  }
 },
 "nbformat": 4,
 "nbformat_minor": 2
}
